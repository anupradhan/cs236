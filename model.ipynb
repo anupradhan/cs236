{
 "cells": [
  {
   "cell_type": "code",
   "execution_count": 7,
   "metadata": {},
   "outputs": [],
   "source": [
    "from __future__ import print_function\n",
    "\n",
    "import argparse\n",
    "import os\n",
    "import random\n",
    "import torch\n",
    "import torch.nn as nn\n",
    "import torch.nn.parallel\n",
    "import torch.backends.cudnn as cudnn\n",
    "import torch.optim as optim\n",
    "import torch.utils.data\n",
    "import torchvision.datasets as dset\n",
    "import torchvision.transforms as transforms\n",
    "import torchvision.utils as vutils\n",
    "import numpy as np\n",
    "import torchvision.datasets as dset\n",
    "import torchvision.transforms as transforms\n",
    "import io\n",
    "import matplotlib.pyplot as plt\n",
    "import numpy as np\n",
    "import pickle\n",
    "from matplotlib.pyplot import figure\n",
    "\n",
    "# Set random seed for reproducibility\n",
    "manualSeed = 42\n",
    "\n",
    "# print(\"Random Seed: \", manualSeed)\n",
    "random.seed(manualSeed)\n",
    "torch.manual_seed(manualSeed)\n",
    "\n",
    "\n",
    "# Number of workers for dataloader\n",
    "workers = 1\n",
    "\n",
    "# Batch size during training\n",
    "batch_size = 128\n",
    "\n",
    "# Spatial size of training images. All images will be resized to this\n",
    "#   size using a transformer.\n",
    "image_size = 64\n",
    "\n",
    "# Number of channels in the training images. For color images this is 3\n",
    "nc = 3\n",
    "\n",
    "# Size of z latent vector (i.e. size of generator input)\n",
    "nz = 100\n",
    "\n",
    "# Size of feature maps in generator\n",
    "ngf = 64\n",
    "\n",
    "# Size of feature maps in discriminator\n",
    "ndf = 64\n",
    "\n",
    "# Number of training epochs\n",
    "num_epochs = 100\n",
    "\n",
    "# Learning rate for optimizers\n",
    "lr = 0.0002\n",
    "\n",
    "# Beta1 hyperparam for Adam optimizers\n",
    "beta1 = 0.5\n",
    "\n",
    "# Number of GPUs available. Use 0 for CPU mode.\n",
    "ngpu = 1\n",
    "\n",
    "\n",
    "def load_vectors(fname):\n",
    "    fin = io.open(fname, 'r', encoding='utf-8', newline='\\n', errors='ignore')\n",
    "    n, d = map(int, fin.readline().split())\n",
    "    data = {}\n",
    "    for line in fin:\n",
    "        tokens = line.rstrip().split(' ')\n",
    "        data[tokens[0]] = np.array(tokens[1:]).astype(float)\n",
    "    return data\n",
    "\n",
    "\n",
    "# fast_text_vectors = load_vectors('coco/wiki-news-300d-1M.vec')"
   ]
  },
  {
   "cell_type": "code",
   "execution_count": 8,
   "metadata": {},
   "outputs": [],
   "source": [
    "# custom weights initialization called on netG and netD\n",
    "def weights_init(m):\n",
    "    classname = m.__class__.__name__\n",
    "    if classname.find('Conv') != -1:\n",
    "        nn.init.normal_(m.weight.data, 0.0, 0.02)\n",
    "    elif classname.find('BatchNorm') != -1:\n",
    "        nn.init.normal_(m.weight.data, 1.0, 0.02)\n",
    "        nn.init.constant_(m.bias.data, 0)\n",
    "\n",
    "\n",
    "\n",
    "class ReverseDataset(torch.utils.data.Dataset):\n",
    "    def __init__(self, dataset, embeddings):\n",
    "        self.dataset = dataset\n",
    "        self.embeddings = embeddings\n",
    "\n",
    "    def __len__(self):\n",
    "        return len(self.dataset) * 5\n",
    "\n",
    "    def __getitem__(self, i):\n",
    "        img, target = self.dataset[int(i / 5)]\n",
    "\n",
    "        encoding = self.embeddings[target[i % 5]]\n",
    "        return img, encoding\n",
    "\n",
    "\n",
    "class Generator(nn.Module):\n",
    "    def __init__(self, ngpu):\n",
    "        super(Generator, self).__init__()\n",
    "        self.ngpu = ngpu\n",
    "        self.main = nn.Sequential(\n",
    "            # input is Z, going into a convolution\n",
    "            nn.ConvTranspose2d(nz+384, ngf * 8, 4, 1, 0, bias=False),\n",
    "            nn.BatchNorm2d(ngf * 8),\n",
    "            nn.ReLU(True),\n",
    "            # state size. (ngf*8) x 4 x 4\n",
    "            nn.ConvTranspose2d(ngf * 8, ngf * 4, 4, 2, 1, bias=False),\n",
    "            nn.BatchNorm2d(ngf * 4),\n",
    "            nn.ReLU(True),\n",
    "            # state size. (ngf*4) x 8 x 8\n",
    "            nn.ConvTranspose2d(ngf * 4, ngf * 2, 4, 2, 1, bias=False),\n",
    "            nn.BatchNorm2d(ngf * 2),\n",
    "            nn.ReLU(True),\n",
    "            # state size. (ngf*2) x 16 x 16\n",
    "            nn.ConvTranspose2d(ngf * 2, ngf, 4, 2, 1, bias=False),\n",
    "            nn.BatchNorm2d(ngf),\n",
    "            nn.ReLU(True),\n",
    "            # state size. (ngf) x 32 x 32\n",
    "            nn.ConvTranspose2d(ngf, nc, 4, 2, 1, bias=False),\n",
    "            nn.Tanh()\n",
    "            # state size. (nc) x 64 x 64\n",
    "        )\n",
    "\n",
    "    def forward(self, input):\n",
    "        return self.main(input)\n",
    "\n",
    "\n",
    "class Discriminator(nn.Module):\n",
    "    def __init__(self, ngpu):\n",
    "        super(Discriminator, self).__init__()\n",
    "        self.ngpu = ngpu\n",
    "        self.main = nn.Sequential(\n",
    "            # input is (nc) x 64 x 64\n",
    "            nn.Conv2d(nc, ndf, 4, 2, 1, bias=False),\n",
    "            nn.LeakyReLU(0.2, inplace=True),\n",
    "            # state size. (ndf) x 32 x 32\n",
    "            nn.Conv2d(ndf, ndf * 2, 4, 2, 1, bias=False),\n",
    "            nn.BatchNorm2d(ndf * 2),\n",
    "            nn.LeakyReLU(0.2, inplace=True),\n",
    "            # state size. (ndf*2) x 16 x 16\n",
    "            nn.Conv2d(ndf * 2, ndf * 4, 4, 2, 1, bias=False),\n",
    "            nn.BatchNorm2d(ndf * 4),\n",
    "            nn.LeakyReLU(0.2, inplace=True),\n",
    "            # state size. (ndf*4) x 8 x 8\n",
    "            nn.Conv2d(ndf * 4, ndf * 8, 4, 2, 1, bias=False),\n",
    "            nn.BatchNorm2d(ndf * 8),\n",
    "            nn.LeakyReLU(0.2, inplace=True),\n",
    "            # state size. (ndf*8) x 4 x 4\n",
    "            nn.Conv2d(ndf * 8, 1, 4, 1, 0, bias=False),\n",
    "            #nn.Conv2d(ndf * 8, (ndf*16), 4, 1, 0, bias=False),\n",
    "            #nn.Flatten(),\n",
    "            #nn.Linear(1024, 384),\n",
    "            nn.Sigmoid()\n",
    "        )\n",
    "\n",
    "    def forward(self, input):\n",
    "        return self.main(input)\n"
   ]
  },
  {
   "cell_type": "code",
   "execution_count": null,
   "metadata": {},
   "outputs": [
    {
     "name": "stdout",
     "output_type": "stream",
     "text": [
      "loading annotations into memory...\n",
      "Done (t=0.68s)\n",
      "creating index...\n",
      "index created!\n",
      "Number of samples:  413915\n",
      "Generator(\n",
      "  (main): Sequential(\n",
      "    (0): ConvTranspose2d(484, 512, kernel_size=(4, 4), stride=(1, 1), bias=False)\n",
      "    (1): BatchNorm2d(512, eps=1e-05, momentum=0.1, affine=True, track_running_stats=True)\n",
      "    (2): ReLU(inplace=True)\n",
      "    (3): ConvTranspose2d(512, 256, kernel_size=(4, 4), stride=(2, 2), padding=(1, 1), bias=False)\n",
      "    (4): BatchNorm2d(256, eps=1e-05, momentum=0.1, affine=True, track_running_stats=True)\n",
      "    (5): ReLU(inplace=True)\n",
      "    (6): ConvTranspose2d(256, 128, kernel_size=(4, 4), stride=(2, 2), padding=(1, 1), bias=False)\n",
      "    (7): BatchNorm2d(128, eps=1e-05, momentum=0.1, affine=True, track_running_stats=True)\n",
      "    (8): ReLU(inplace=True)\n",
      "    (9): ConvTranspose2d(128, 64, kernel_size=(4, 4), stride=(2, 2), padding=(1, 1), bias=False)\n",
      "    (10): BatchNorm2d(64, eps=1e-05, momentum=0.1, affine=True, track_running_stats=True)\n",
      "    (11): ReLU(inplace=True)\n",
      "    (12): ConvTranspose2d(64, 3, kernel_size=(4, 4), stride=(2, 2), padding=(1, 1), bias=False)\n",
      "    (13): Tanh()\n",
      "  )\n",
      ")\n",
      "Discriminator(\n",
      "  (main): Sequential(\n",
      "    (0): Conv2d(3, 64, kernel_size=(4, 4), stride=(2, 2), padding=(1, 1), bias=False)\n",
      "    (1): LeakyReLU(negative_slope=0.2, inplace=True)\n",
      "    (2): Conv2d(64, 128, kernel_size=(4, 4), stride=(2, 2), padding=(1, 1), bias=False)\n",
      "    (3): BatchNorm2d(128, eps=1e-05, momentum=0.1, affine=True, track_running_stats=True)\n",
      "    (4): LeakyReLU(negative_slope=0.2, inplace=True)\n",
      "    (5): Conv2d(128, 256, kernel_size=(4, 4), stride=(2, 2), padding=(1, 1), bias=False)\n",
      "    (6): BatchNorm2d(256, eps=1e-05, momentum=0.1, affine=True, track_running_stats=True)\n",
      "    (7): LeakyReLU(negative_slope=0.2, inplace=True)\n",
      "    (8): Conv2d(256, 512, kernel_size=(4, 4), stride=(2, 2), padding=(1, 1), bias=False)\n",
      "    (9): BatchNorm2d(512, eps=1e-05, momentum=0.1, affine=True, track_running_stats=True)\n",
      "    (10): LeakyReLU(negative_slope=0.2, inplace=True)\n",
      "    (11): Conv2d(512, 1, kernel_size=(4, 4), stride=(1, 1), bias=False)\n",
      "    (12): Sigmoid()\n",
      "  )\n",
      ")\n",
      "Starting Training Loop...\n"
     ]
    },
    {
     "name": "stderr",
     "output_type": "stream",
     "text": [
      "Clipping input data to the valid range for imshow with RGB data ([0..1] for floats or [0..255] for integers).\n"
     ]
    },
    {
     "name": "stdout",
     "output_type": "stream",
     "text": [
      "[0/100][0/3234]\tLoss_D: 1.7735\tLoss_G: 6.1188\tD(x): 0.5267\tD(G(z)): 0.5597 / 0.0038\n",
      "[0/100][50/3234]\tLoss_D: 0.3219\tLoss_G: 20.9967\tD(x): 0.8271\tD(G(z)): 0.0000 / 0.0000\n",
      "[0/100][100/3234]\tLoss_D: 0.5574\tLoss_G: 6.2981\tD(x): 0.8111\tD(G(z)): 0.2210 / 0.0034\n",
      "[0/100][150/3234]\tLoss_D: 0.7598\tLoss_G: 3.9304\tD(x): 0.7601\tD(G(z)): 0.2703 / 0.0375\n",
      "[0/100][200/3234]\tLoss_D: 0.3506\tLoss_G: 5.2352\tD(x): 0.8760\tD(G(z)): 0.1225 / 0.0077\n",
      "[0/100][250/3234]\tLoss_D: 0.0690\tLoss_G: 8.1154\tD(x): 0.9532\tD(G(z)): 0.0077 / 0.0004\n",
      "[0/100][300/3234]\tLoss_D: 0.2761\tLoss_G: 3.2240\tD(x): 0.8432\tD(G(z)): 0.0678 / 0.0696\n",
      "[0/100][350/3234]\tLoss_D: 1.1287\tLoss_G: 4.3356\tD(x): 0.7224\tD(G(z)): 0.4397 / 0.0192\n",
      "[0/100][400/3234]\tLoss_D: 0.4068\tLoss_G: 3.2455\tD(x): 0.8108\tD(G(z)): 0.1274 / 0.0588\n",
      "[0/100][450/3234]\tLoss_D: 0.8248\tLoss_G: 6.9595\tD(x): 0.5787\tD(G(z)): 0.0026 / 0.0019\n"
     ]
    },
    {
     "name": "stderr",
     "output_type": "stream",
     "text": [
      "Clipping input data to the valid range for imshow with RGB data ([0..1] for floats or [0..255] for integers).\n"
     ]
    },
    {
     "name": "stdout",
     "output_type": "stream",
     "text": [
      "[0/100][500/3234]\tLoss_D: 0.8023\tLoss_G: 5.1981\tD(x): 0.7517\tD(G(z)): 0.3232 / 0.0091\n",
      "[0/100][550/3234]\tLoss_D: 0.1942\tLoss_G: 4.3123\tD(x): 0.9004\tD(G(z)): 0.0713 / 0.0177\n",
      "[0/100][600/3234]\tLoss_D: 0.2075\tLoss_G: 4.6666\tD(x): 0.9158\tD(G(z)): 0.0988 / 0.0127\n",
      "[0/100][650/3234]\tLoss_D: 0.3560\tLoss_G: 6.1429\tD(x): 0.8212\tD(G(z)): 0.0576 / 0.0063\n",
      "[0/100][700/3234]\tLoss_D: 2.7415\tLoss_G: 1.0669\tD(x): 0.2420\tD(G(z)): 0.0230 / 0.5648\n",
      "[0/100][750/3234]\tLoss_D: 0.2185\tLoss_G: 5.0168\tD(x): 0.8853\tD(G(z)): 0.0762 / 0.0097\n",
      "[0/100][800/3234]\tLoss_D: 0.3225\tLoss_G: 5.5874\tD(x): 0.9263\tD(G(z)): 0.1996 / 0.0061\n",
      "[0/100][850/3234]\tLoss_D: 0.1192\tLoss_G: 4.3095\tD(x): 0.9299\tD(G(z)): 0.0351 / 0.0182\n",
      "[0/100][900/3234]\tLoss_D: 1.6431\tLoss_G: 6.6781\tD(x): 0.3549\tD(G(z)): 0.0005 / 0.0021\n",
      "[0/100][950/3234]\tLoss_D: 0.2749\tLoss_G: 4.0682\tD(x): 0.8951\tD(G(z)): 0.1315 / 0.0268\n"
     ]
    },
    {
     "name": "stderr",
     "output_type": "stream",
     "text": [
      "Clipping input data to the valid range for imshow with RGB data ([0..1] for floats or [0..255] for integers).\n"
     ]
    },
    {
     "name": "stdout",
     "output_type": "stream",
     "text": [
      "[0/100][1000/3234]\tLoss_D: 0.3221\tLoss_G: 3.2071\tD(x): 0.9306\tD(G(z)): 0.1870 / 0.0707\n",
      "[0/100][1050/3234]\tLoss_D: 0.4889\tLoss_G: 2.5004\tD(x): 0.7390\tD(G(z)): 0.0918 / 0.1142\n",
      "[0/100][1100/3234]\tLoss_D: 2.3373\tLoss_G: 3.3381\tD(x): 0.1745\tD(G(z)): 0.0015 / 0.1018\n",
      "[0/100][1150/3234]\tLoss_D: 0.3020\tLoss_G: 3.7964\tD(x): 0.8277\tD(G(z)): 0.0750 / 0.0344\n",
      "[0/100][1200/3234]\tLoss_D: 1.1058\tLoss_G: 1.8640\tD(x): 0.5595\tD(G(z)): 0.1320 / 0.2653\n",
      "[0/100][1250/3234]\tLoss_D: 0.3836\tLoss_G: 3.7247\tD(x): 0.8846\tD(G(z)): 0.1877 / 0.0393\n",
      "[0/100][1300/3234]\tLoss_D: 0.2700\tLoss_G: 3.2548\tD(x): 0.8422\tD(G(z)): 0.0576 / 0.0593\n",
      "[0/100][1350/3234]\tLoss_D: 0.3350\tLoss_G: 5.5065\tD(x): 0.9596\tD(G(z)): 0.2249 / 0.0072\n",
      "[0/100][1400/3234]\tLoss_D: 0.3294\tLoss_G: 3.5101\tD(x): 0.8181\tD(G(z)): 0.0774 / 0.0524\n",
      "[0/100][1450/3234]\tLoss_D: 0.3524\tLoss_G: 3.0161\tD(x): 0.8076\tD(G(z)): 0.1034 / 0.0629\n"
     ]
    },
    {
     "name": "stderr",
     "output_type": "stream",
     "text": [
      "Clipping input data to the valid range for imshow with RGB data ([0..1] for floats or [0..255] for integers).\n"
     ]
    },
    {
     "name": "stdout",
     "output_type": "stream",
     "text": [
      "[0/100][1500/3234]\tLoss_D: 0.3887\tLoss_G: 4.9336\tD(x): 0.8878\tD(G(z)): 0.1965 / 0.0121\n",
      "[0/100][1550/3234]\tLoss_D: 0.3685\tLoss_G: 5.0937\tD(x): 0.9061\tD(G(z)): 0.2060 / 0.0094\n",
      "[0/100][1600/3234]\tLoss_D: 0.5012\tLoss_G: 3.9736\tD(x): 0.6900\tD(G(z)): 0.0181 / 0.0353\n",
      "[0/100][1650/3234]\tLoss_D: 0.2781\tLoss_G: 4.2342\tD(x): 0.8929\tD(G(z)): 0.1304 / 0.0214\n",
      "[0/100][1700/3234]\tLoss_D: 1.1452\tLoss_G: 3.0769\tD(x): 0.4095\tD(G(z)): 0.0042 / 0.0840\n",
      "[0/100][1750/3234]\tLoss_D: 0.4803\tLoss_G: 4.7759\tD(x): 0.6976\tD(G(z)): 0.0205 / 0.0194\n",
      "[0/100][1800/3234]\tLoss_D: 0.3576\tLoss_G: 5.1972\tD(x): 0.8976\tD(G(z)): 0.1811 / 0.0100\n",
      "[0/100][1850/3234]\tLoss_D: 0.3525\tLoss_G: 4.0950\tD(x): 0.8253\tD(G(z)): 0.1040 / 0.0257\n",
      "[0/100][1900/3234]\tLoss_D: 0.4387\tLoss_G: 5.1632\tD(x): 0.7099\tD(G(z)): 0.0137 / 0.0123\n",
      "[0/100][1950/3234]\tLoss_D: 0.4858\tLoss_G: 5.7769\tD(x): 0.9298\tD(G(z)): 0.2863 / 0.0063\n"
     ]
    },
    {
     "name": "stderr",
     "output_type": "stream",
     "text": [
      "Clipping input data to the valid range for imshow with RGB data ([0..1] for floats or [0..255] for integers).\n"
     ]
    },
    {
     "name": "stdout",
     "output_type": "stream",
     "text": [
      "[0/100][2000/3234]\tLoss_D: 0.2852\tLoss_G: 3.8653\tD(x): 0.8396\tD(G(z)): 0.0731 / 0.0342\n",
      "[0/100][2050/3234]\tLoss_D: 0.4175\tLoss_G: 3.4255\tD(x): 0.7699\tD(G(z)): 0.0999 / 0.0470\n",
      "[0/100][2100/3234]\tLoss_D: 1.0109\tLoss_G: 7.5472\tD(x): 0.9526\tD(G(z)): 0.5388 / 0.0010\n",
      "[0/100][2150/3234]\tLoss_D: 0.3634\tLoss_G: 5.3280\tD(x): 0.9388\tD(G(z)): 0.2271 / 0.0070\n",
      "[0/100][2200/3234]\tLoss_D: 0.6221\tLoss_G: 2.5542\tD(x): 0.6333\tD(G(z)): 0.0444 / 0.1136\n",
      "[0/100][2250/3234]\tLoss_D: 0.2213\tLoss_G: 3.8510\tD(x): 0.8823\tD(G(z)): 0.0800 / 0.0323\n",
      "[0/100][2300/3234]\tLoss_D: 0.3587\tLoss_G: 3.8192\tD(x): 0.9667\tD(G(z)): 0.2496 / 0.0344\n",
      "[0/100][2350/3234]\tLoss_D: 1.5575\tLoss_G: 2.0114\tD(x): 0.2935\tD(G(z)): 0.0027 / 0.2351\n",
      "[0/100][2400/3234]\tLoss_D: 0.3302\tLoss_G: 4.7312\tD(x): 0.9118\tD(G(z)): 0.1914 / 0.0124\n",
      "[0/100][2450/3234]\tLoss_D: 0.2658\tLoss_G: 4.6560\tD(x): 0.9115\tD(G(z)): 0.1443 / 0.0129\n"
     ]
    },
    {
     "name": "stderr",
     "output_type": "stream",
     "text": [
      "Clipping input data to the valid range for imshow with RGB data ([0..1] for floats or [0..255] for integers).\n"
     ]
    },
    {
     "name": "stdout",
     "output_type": "stream",
     "text": [
      "[0/100][2500/3234]\tLoss_D: 0.3693\tLoss_G: 5.3511\tD(x): 0.9057\tD(G(z)): 0.2120 / 0.0071\n",
      "[0/100][2550/3234]\tLoss_D: 0.2210\tLoss_G: 2.9713\tD(x): 0.9354\tD(G(z)): 0.1117 / 0.1128\n",
      "[0/100][2600/3234]\tLoss_D: 0.2759\tLoss_G: 4.7039\tD(x): 0.9352\tD(G(z)): 0.1681 / 0.0144\n",
      "[0/100][2650/3234]\tLoss_D: 0.2014\tLoss_G: 3.8606\tD(x): 0.9253\tD(G(z)): 0.1054 / 0.0303\n",
      "[0/100][2700/3234]\tLoss_D: 0.4291\tLoss_G: 5.4245\tD(x): 0.8753\tD(G(z)): 0.2244 / 0.0066\n",
      "[0/100][2750/3234]\tLoss_D: 0.1631\tLoss_G: 3.7313\tD(x): 0.8852\tD(G(z)): 0.0283 / 0.0444\n",
      "[0/100][2800/3234]\tLoss_D: 0.4764\tLoss_G: 3.2202\tD(x): 0.6813\tD(G(z)): 0.0260 / 0.0648\n",
      "[0/100][2850/3234]\tLoss_D: 0.4080\tLoss_G: 3.5518\tD(x): 0.7361\tD(G(z)): 0.0364 / 0.0488\n",
      "[0/100][2900/3234]\tLoss_D: 1.0738\tLoss_G: 6.5577\tD(x): 0.9464\tD(G(z)): 0.5438 / 0.0026\n",
      "[0/100][2950/3234]\tLoss_D: 0.4352\tLoss_G: 3.5722\tD(x): 0.8179\tD(G(z)): 0.1748 / 0.0420\n"
     ]
    },
    {
     "name": "stderr",
     "output_type": "stream",
     "text": [
      "Clipping input data to the valid range for imshow with RGB data ([0..1] for floats or [0..255] for integers).\n"
     ]
    },
    {
     "name": "stdout",
     "output_type": "stream",
     "text": [
      "[0/100][3000/3234]\tLoss_D: 0.4938\tLoss_G: 2.8282\tD(x): 0.7357\tD(G(z)): 0.1247 / 0.0908\n",
      "[0/100][3050/3234]\tLoss_D: 0.4895\tLoss_G: 4.2581\tD(x): 0.9110\tD(G(z)): 0.2894 / 0.0218\n",
      "[0/100][3100/3234]\tLoss_D: 0.6303\tLoss_G: 6.2956\tD(x): 0.9671\tD(G(z)): 0.3935 / 0.0029\n",
      "[0/100][3150/3234]\tLoss_D: 0.2611\tLoss_G: 6.0970\tD(x): 0.8000\tD(G(z)): 0.0089 / 0.0042\n",
      "[0/100][3200/3234]\tLoss_D: 0.5787\tLoss_G: 3.0187\tD(x): 0.6339\tD(G(z)): 0.0299 / 0.0847\n"
     ]
    },
    {
     "name": "stderr",
     "output_type": "stream",
     "text": [
      "Clipping input data to the valid range for imshow with RGB data ([0..1] for floats or [0..255] for integers).\n"
     ]
    },
    {
     "name": "stdout",
     "output_type": "stream",
     "text": [
      "[1/100][0/3234]\tLoss_D: 0.6796\tLoss_G: 7.2109\tD(x): 0.9683\tD(G(z)): 0.4331 / 0.0012\n",
      "[1/100][50/3234]\tLoss_D: 0.8190\tLoss_G: 6.5164\tD(x): 0.9555\tD(G(z)): 0.4809 / 0.0023\n",
      "[1/100][100/3234]\tLoss_D: 0.4725\tLoss_G: 4.6072\tD(x): 0.9081\tD(G(z)): 0.2598 / 0.0160\n",
      "[1/100][150/3234]\tLoss_D: 0.3985\tLoss_G: 4.5441\tD(x): 0.9139\tD(G(z)): 0.2428 / 0.0161\n",
      "[1/100][200/3234]\tLoss_D: 1.6273\tLoss_G: 2.2190\tD(x): 0.2785\tD(G(z)): 0.0022 / 0.1823\n",
      "[1/100][250/3234]\tLoss_D: 0.4711\tLoss_G: 2.4216\tD(x): 0.7466\tD(G(z)): 0.1175 / 0.1244\n",
      "[1/100][300/3234]\tLoss_D: 0.6048\tLoss_G: 5.8342\tD(x): 0.9756\tD(G(z)): 0.3835 / 0.0092\n",
      "[1/100][350/3234]\tLoss_D: 0.5660\tLoss_G: 5.6192\tD(x): 0.9444\tD(G(z)): 0.3260 / 0.0077\n",
      "[1/100][400/3234]\tLoss_D: 0.5910\tLoss_G: 5.0924\tD(x): 0.9764\tD(G(z)): 0.3670 / 0.0107\n",
      "[1/100][450/3234]\tLoss_D: 0.6765\tLoss_G: 5.4533\tD(x): 0.9240\tD(G(z)): 0.3956 / 0.0075\n"
     ]
    },
    {
     "name": "stderr",
     "output_type": "stream",
     "text": [
      "Clipping input data to the valid range for imshow with RGB data ([0..1] for floats or [0..255] for integers).\n"
     ]
    },
    {
     "name": "stdout",
     "output_type": "stream",
     "text": [
      "[1/100][500/3234]\tLoss_D: 0.3721\tLoss_G: 4.4611\tD(x): 0.9319\tD(G(z)): 0.2313 / 0.0173\n",
      "[1/100][550/3234]\tLoss_D: 0.4913\tLoss_G: 4.3341\tD(x): 0.8855\tD(G(z)): 0.2714 / 0.0204\n",
      "[1/100][600/3234]\tLoss_D: 0.3136\tLoss_G: 3.4070\tD(x): 0.8876\tD(G(z)): 0.1607 / 0.0466\n",
      "[1/100][650/3234]\tLoss_D: 0.3099\tLoss_G: 4.5251\tD(x): 0.8644\tD(G(z)): 0.1241 / 0.0180\n",
      "[1/100][700/3234]\tLoss_D: 0.9262\tLoss_G: 1.2949\tD(x): 0.4840\tD(G(z)): 0.0166 / 0.3324\n",
      "[1/100][750/3234]\tLoss_D: 0.2149\tLoss_G: 3.8600\tD(x): 0.9622\tD(G(z)): 0.1401 / 0.0404\n",
      "[1/100][800/3234]\tLoss_D: 0.3621\tLoss_G: 3.8716\tD(x): 0.8877\tD(G(z)): 0.1861 / 0.0340\n",
      "[1/100][850/3234]\tLoss_D: 0.8805\tLoss_G: 6.6820\tD(x): 0.9476\tD(G(z)): 0.4928 / 0.0025\n",
      "[1/100][900/3234]\tLoss_D: 1.1338\tLoss_G: 4.8731\tD(x): 0.9751\tD(G(z)): 0.5656 / 0.0162\n",
      "[1/100][950/3234]\tLoss_D: 0.5401\tLoss_G: 5.1044\tD(x): 0.9091\tD(G(z)): 0.3128 / 0.0096\n"
     ]
    },
    {
     "name": "stderr",
     "output_type": "stream",
     "text": [
      "Clipping input data to the valid range for imshow with RGB data ([0..1] for floats or [0..255] for integers).\n"
     ]
    },
    {
     "name": "stdout",
     "output_type": "stream",
     "text": [
      "[1/100][1000/3234]\tLoss_D: 0.5960\tLoss_G: 5.3673\tD(x): 0.9461\tD(G(z)): 0.3509 / 0.0075\n",
      "[1/100][1050/3234]\tLoss_D: 0.2571\tLoss_G: 3.4222\tD(x): 0.8803\tD(G(z)): 0.1072 / 0.0486\n",
      "[1/100][1100/3234]\tLoss_D: 0.5895\tLoss_G: 2.0504\tD(x): 0.6379\tD(G(z)): 0.0564 / 0.1771\n",
      "[1/100][1150/3234]\tLoss_D: 0.5874\tLoss_G: 3.4174\tD(x): 0.6404\tD(G(z)): 0.0368 / 0.0595\n",
      "[1/100][1200/3234]\tLoss_D: 0.2908\tLoss_G: 3.7307\tD(x): 0.9118\tD(G(z)): 0.1636 / 0.0377\n",
      "[1/100][1250/3234]\tLoss_D: 0.7918\tLoss_G: 5.3245\tD(x): 0.9197\tD(G(z)): 0.4500 / 0.0082\n",
      "[1/100][1300/3234]\tLoss_D: 0.7766\tLoss_G: 1.7576\tD(x): 0.5284\tD(G(z)): 0.0153 / 0.2393\n",
      "[1/100][1350/3234]\tLoss_D: 0.5976\tLoss_G: 3.8206\tD(x): 0.9685\tD(G(z)): 0.3819 / 0.0327\n",
      "[1/100][1400/3234]\tLoss_D: 0.3332\tLoss_G: 3.6087\tD(x): 0.8584\tD(G(z)): 0.1397 / 0.0413\n",
      "[1/100][1450/3234]\tLoss_D: 0.9292\tLoss_G: 6.5315\tD(x): 0.9880\tD(G(z)): 0.5428 / 0.0025\n"
     ]
    },
    {
     "name": "stderr",
     "output_type": "stream",
     "text": [
      "Clipping input data to the valid range for imshow with RGB data ([0..1] for floats or [0..255] for integers).\n"
     ]
    },
    {
     "name": "stdout",
     "output_type": "stream",
     "text": [
      "[1/100][1500/3234]\tLoss_D: 0.2332\tLoss_G: 4.7771\tD(x): 0.8581\tD(G(z)): 0.0564 / 0.0151\n",
      "[1/100][1550/3234]\tLoss_D: 0.2538\tLoss_G: 2.6784\tD(x): 0.8589\tD(G(z)): 0.0760 / 0.0947\n",
      "[1/100][1600/3234]\tLoss_D: 0.3830\tLoss_G: 2.8162\tD(x): 0.7941\tD(G(z)): 0.1154 / 0.0786\n",
      "[1/100][1650/3234]\tLoss_D: 0.4938\tLoss_G: 3.9491\tD(x): 0.8742\tD(G(z)): 0.2660 / 0.0290\n",
      "[1/100][1700/3234]\tLoss_D: 0.5441\tLoss_G: 2.2057\tD(x): 0.7348\tD(G(z)): 0.1581 / 0.1507\n",
      "[1/100][1750/3234]\tLoss_D: 0.5622\tLoss_G: 2.3088\tD(x): 0.6461\tD(G(z)): 0.0606 / 0.1441\n",
      "[1/100][1800/3234]\tLoss_D: 0.3057\tLoss_G: 2.9560\tD(x): 0.8312\tD(G(z)): 0.0907 / 0.0726\n",
      "[1/100][1850/3234]\tLoss_D: 0.3665\tLoss_G: 3.5921\tD(x): 0.7657\tD(G(z)): 0.0505 / 0.0475\n",
      "[1/100][1900/3234]\tLoss_D: 0.9412\tLoss_G: 2.2558\tD(x): 0.5106\tD(G(z)): 0.0057 / 0.1802\n",
      "[1/100][1950/3234]\tLoss_D: 0.2684\tLoss_G: 2.1586\tD(x): 0.8283\tD(G(z)): 0.0595 / 0.1766\n"
     ]
    },
    {
     "name": "stderr",
     "output_type": "stream",
     "text": [
      "Clipping input data to the valid range for imshow with RGB data ([0..1] for floats or [0..255] for integers).\n"
     ]
    },
    {
     "name": "stdout",
     "output_type": "stream",
     "text": [
      "[1/100][2000/3234]\tLoss_D: 0.3285\tLoss_G: 3.7287\tD(x): 0.8855\tD(G(z)): 0.1723 / 0.0318\n",
      "[1/100][2050/3234]\tLoss_D: 0.3434\tLoss_G: 2.6850\tD(x): 0.7759\tD(G(z)): 0.0630 / 0.0943\n",
      "[1/100][2100/3234]\tLoss_D: 0.8258\tLoss_G: 5.1734\tD(x): 0.9855\tD(G(z)): 0.4458 / 0.0136\n",
      "[1/100][2150/3234]\tLoss_D: 0.5117\tLoss_G: 2.5666\tD(x): 0.7724\tD(G(z)): 0.1914 / 0.1025\n",
      "[1/100][2200/3234]\tLoss_D: 0.4015\tLoss_G: 3.6811\tD(x): 0.8263\tD(G(z)): 0.1565 / 0.0373\n",
      "[1/100][2250/3234]\tLoss_D: 0.7337\tLoss_G: 4.7832\tD(x): 0.9665\tD(G(z)): 0.4274 / 0.0168\n",
      "[1/100][2300/3234]\tLoss_D: 0.6597\tLoss_G: 7.6259\tD(x): 0.9698\tD(G(z)): 0.4207 / 0.0009\n",
      "[1/100][2350/3234]\tLoss_D: 0.3565\tLoss_G: 2.2755\tD(x): 0.8248\tD(G(z)): 0.1038 / 0.1458\n",
      "[1/100][2400/3234]\tLoss_D: 0.4046\tLoss_G: 3.8071\tD(x): 0.8672\tD(G(z)): 0.2032 / 0.0312\n",
      "[1/100][2450/3234]\tLoss_D: 0.9046\tLoss_G: 6.0298\tD(x): 0.9477\tD(G(z)): 0.5033 / 0.0043\n"
     ]
    },
    {
     "name": "stderr",
     "output_type": "stream",
     "text": [
      "Clipping input data to the valid range for imshow with RGB data ([0..1] for floats or [0..255] for integers).\n"
     ]
    },
    {
     "name": "stdout",
     "output_type": "stream",
     "text": [
      "[1/100][2500/3234]\tLoss_D: 0.4050\tLoss_G: 4.1190\tD(x): 0.9518\tD(G(z)): 0.2754 / 0.0226\n",
      "[1/100][2550/3234]\tLoss_D: 0.3121\tLoss_G: 4.3431\tD(x): 0.9213\tD(G(z)): 0.1864 / 0.0184\n",
      "[1/100][2600/3234]\tLoss_D: 0.3487\tLoss_G: 3.2311\tD(x): 0.8707\tD(G(z)): 0.1665 / 0.0553\n",
      "[1/100][2650/3234]\tLoss_D: 0.2543\tLoss_G: 3.1641\tD(x): 0.9173\tD(G(z)): 0.1379 / 0.0675\n",
      "[1/100][2700/3234]\tLoss_D: 0.5744\tLoss_G: 2.2475\tD(x): 0.6309\tD(G(z)): 0.0296 / 0.1590\n",
      "[1/100][2750/3234]\tLoss_D: 0.4563\tLoss_G: 5.1532\tD(x): 0.9498\tD(G(z)): 0.2992 / 0.0094\n",
      "[1/100][2800/3234]\tLoss_D: 0.8653\tLoss_G: 2.0051\tD(x): 0.5149\tD(G(z)): 0.0170 / 0.2002\n",
      "[1/100][2850/3234]\tLoss_D: 0.5324\tLoss_G: 4.8405\tD(x): 0.9122\tD(G(z)): 0.3141 / 0.0134\n",
      "[1/100][2900/3234]\tLoss_D: 2.0946\tLoss_G: 0.0983\tD(x): 0.1787\tD(G(z)): 0.0097 / 0.9126\n",
      "[1/100][2950/3234]\tLoss_D: 0.4812\tLoss_G: 2.7434\tD(x): 0.8674\tD(G(z)): 0.2495 / 0.0968\n"
     ]
    },
    {
     "name": "stderr",
     "output_type": "stream",
     "text": [
      "Clipping input data to the valid range for imshow with RGB data ([0..1] for floats or [0..255] for integers).\n"
     ]
    },
    {
     "name": "stdout",
     "output_type": "stream",
     "text": [
      "[1/100][3000/3234]\tLoss_D: 0.6763\tLoss_G: 5.6896\tD(x): 0.9395\tD(G(z)): 0.4160 / 0.0052\n",
      "[1/100][3050/3234]\tLoss_D: 0.3078\tLoss_G: 3.3337\tD(x): 0.8814\tD(G(z)): 0.1419 / 0.0545\n",
      "[1/100][3100/3234]\tLoss_D: 1.2444\tLoss_G: 6.1370\tD(x): 0.9622\tD(G(z)): 0.6352 / 0.0076\n",
      "[1/100][3150/3234]\tLoss_D: 0.3709\tLoss_G: 2.8645\tD(x): 0.7635\tD(G(z)): 0.0636 / 0.0849\n",
      "[1/100][3200/3234]\tLoss_D: 0.5891\tLoss_G: 3.2426\tD(x): 0.6337\tD(G(z)): 0.0488 / 0.0773\n"
     ]
    },
    {
     "name": "stderr",
     "output_type": "stream",
     "text": [
      "Clipping input data to the valid range for imshow with RGB data ([0..1] for floats or [0..255] for integers).\n"
     ]
    },
    {
     "name": "stdout",
     "output_type": "stream",
     "text": [
      "[2/100][0/3234]\tLoss_D: 0.3002\tLoss_G: 4.1093\tD(x): 0.8813\tD(G(z)): 0.1461 / 0.0227\n",
      "[2/100][50/3234]\tLoss_D: 0.3396\tLoss_G: 3.5269\tD(x): 0.9043\tD(G(z)): 0.1904 / 0.0402\n",
      "[2/100][100/3234]\tLoss_D: 0.2686\tLoss_G: 2.7414\tD(x): 0.8804\tD(G(z)): 0.1093 / 0.1034\n",
      "[2/100][150/3234]\tLoss_D: 0.5578\tLoss_G: 3.0922\tD(x): 0.8315\tD(G(z)): 0.2728 / 0.0627\n",
      "[2/100][200/3234]\tLoss_D: 0.3358\tLoss_G: 3.4124\tD(x): 0.9098\tD(G(z)): 0.1923 / 0.0480\n",
      "[2/100][250/3234]\tLoss_D: 0.5338\tLoss_G: 2.6374\tD(x): 0.8097\tD(G(z)): 0.2312 / 0.1006\n",
      "[2/100][300/3234]\tLoss_D: 0.3988\tLoss_G: 3.1860\tD(x): 0.8543\tD(G(z)): 0.1894 / 0.0568\n",
      "[2/100][350/3234]\tLoss_D: 0.3182\tLoss_G: 3.9476\tD(x): 0.9203\tD(G(z)): 0.1916 / 0.0276\n",
      "[2/100][400/3234]\tLoss_D: 0.2470\tLoss_G: 3.5465\tD(x): 0.8832\tD(G(z)): 0.1011 / 0.0377\n",
      "[2/100][450/3234]\tLoss_D: 0.2566\tLoss_G: 3.2138\tD(x): 0.9132\tD(G(z)): 0.1428 / 0.0564\n"
     ]
    },
    {
     "name": "stderr",
     "output_type": "stream",
     "text": [
      "Clipping input data to the valid range for imshow with RGB data ([0..1] for floats or [0..255] for integers).\n"
     ]
    },
    {
     "name": "stdout",
     "output_type": "stream",
     "text": [
      "[2/100][500/3234]\tLoss_D: 0.5526\tLoss_G: 2.0805\tD(x): 0.6483\tD(G(z)): 0.0455 / 0.1735\n",
      "[2/100][550/3234]\tLoss_D: 0.2459\tLoss_G: 3.1888\tD(x): 0.8719\tD(G(z)): 0.0921 / 0.0597\n",
      "[2/100][600/3234]\tLoss_D: 0.2962\tLoss_G: 3.1045\tD(x): 0.8052\tD(G(z)): 0.0518 / 0.0655\n",
      "[2/100][650/3234]\tLoss_D: 0.3244\tLoss_G: 3.9068\tD(x): 0.8675\tD(G(z)): 0.1428 / 0.0308\n",
      "[2/100][700/3234]\tLoss_D: 0.5217\tLoss_G: 4.4573\tD(x): 0.8880\tD(G(z)): 0.2883 / 0.0186\n",
      "[2/100][750/3234]\tLoss_D: 0.7954\tLoss_G: 1.7491\tD(x): 0.5096\tD(G(z)): 0.0175 / 0.2271\n",
      "[2/100][800/3234]\tLoss_D: 0.5527\tLoss_G: 1.6881\tD(x): 0.6407\tD(G(z)): 0.0420 / 0.2393\n",
      "[2/100][850/3234]\tLoss_D: 0.6625\tLoss_G: 2.0313\tD(x): 0.5769\tD(G(z)): 0.0188 / 0.1758\n",
      "[2/100][900/3234]\tLoss_D: 0.7336\tLoss_G: 4.2315\tD(x): 0.8588\tD(G(z)): 0.3885 / 0.0209\n",
      "[2/100][950/3234]\tLoss_D: 0.3843\tLoss_G: 3.9764\tD(x): 0.9201\tD(G(z)): 0.2324 / 0.0257\n"
     ]
    },
    {
     "name": "stderr",
     "output_type": "stream",
     "text": [
      "Clipping input data to the valid range for imshow with RGB data ([0..1] for floats or [0..255] for integers).\n"
     ]
    },
    {
     "name": "stdout",
     "output_type": "stream",
     "text": [
      "[2/100][1000/3234]\tLoss_D: 6.0866\tLoss_G: 0.0519\tD(x): 0.0143\tD(G(z)): 0.0005 / 0.9625\n",
      "[2/100][1050/3234]\tLoss_D: 0.5735\tLoss_G: 1.8301\tD(x): 0.6583\tD(G(z)): 0.0866 / 0.2205\n",
      "[2/100][1100/3234]\tLoss_D: 0.2883\tLoss_G: 2.9915\tD(x): 0.8597\tD(G(z)): 0.1130 / 0.0702\n",
      "[2/100][1150/3234]\tLoss_D: 0.3430\tLoss_G: 2.7024\tD(x): 0.8382\tD(G(z)): 0.1348 / 0.0886\n",
      "[2/100][1200/3234]\tLoss_D: 0.3533\tLoss_G: 3.2999\tD(x): 0.9170\tD(G(z)): 0.2169 / 0.0482\n",
      "[2/100][1250/3234]\tLoss_D: 0.4848\tLoss_G: 3.4850\tD(x): 0.8492\tD(G(z)): 0.2472 / 0.0429\n",
      "[2/100][1300/3234]\tLoss_D: 0.3027\tLoss_G: 4.1055\tD(x): 0.9646\tD(G(z)): 0.2157 / 0.0231\n",
      "[2/100][1350/3234]\tLoss_D: 0.4836\tLoss_G: 3.7151\tD(x): 0.9705\tD(G(z)): 0.3262 / 0.0357\n",
      "[2/100][1400/3234]\tLoss_D: 1.5182\tLoss_G: 6.6784\tD(x): 0.9709\tD(G(z)): 0.6984 / 0.0037\n",
      "[2/100][1450/3234]\tLoss_D: 0.5841\tLoss_G: 4.3341\tD(x): 0.9446\tD(G(z)): 0.3662 / 0.0195\n"
     ]
    },
    {
     "name": "stderr",
     "output_type": "stream",
     "text": [
      "Clipping input data to the valid range for imshow with RGB data ([0..1] for floats or [0..255] for integers).\n"
     ]
    },
    {
     "name": "stdout",
     "output_type": "stream",
     "text": [
      "[2/100][1500/3234]\tLoss_D: 0.2377\tLoss_G: 3.4449\tD(x): 0.8661\tD(G(z)): 0.0805 / 0.0475\n",
      "[2/100][1550/3234]\tLoss_D: 0.2194\tLoss_G: 2.5540\tD(x): 0.9165\tD(G(z)): 0.1083 / 0.1095\n",
      "[2/100][1600/3234]\tLoss_D: 0.3957\tLoss_G: 3.7574\tD(x): 0.9127\tD(G(z)): 0.2403 / 0.0306\n",
      "[2/100][1650/3234]\tLoss_D: 0.6675\tLoss_G: 3.1371\tD(x): 0.8456\tD(G(z)): 0.3277 / 0.0649\n",
      "[2/100][1700/3234]\tLoss_D: 1.3879\tLoss_G: 6.3425\tD(x): 0.9744\tD(G(z)): 0.6507 / 0.0038\n",
      "[2/100][1750/3234]\tLoss_D: 0.2783\tLoss_G: 3.0553\tD(x): 0.8590\tD(G(z)): 0.1039 / 0.0656\n",
      "[2/100][1800/3234]\tLoss_D: 0.5509\tLoss_G: 3.2693\tD(x): 0.8079\tD(G(z)): 0.2562 / 0.0488\n",
      "[2/100][1850/3234]\tLoss_D: 0.2518\tLoss_G: 3.0638\tD(x): 0.9544\tD(G(z)): 0.1742 / 0.0629\n",
      "[2/100][1900/3234]\tLoss_D: 0.2962\tLoss_G: 4.0160\tD(x): 0.9526\tD(G(z)): 0.2064 / 0.0246\n",
      "[2/100][1950/3234]\tLoss_D: 0.9938\tLoss_G: 5.2091\tD(x): 0.9052\tD(G(z)): 0.5181 / 0.0092\n"
     ]
    },
    {
     "name": "stderr",
     "output_type": "stream",
     "text": [
      "Clipping input data to the valid range for imshow with RGB data ([0..1] for floats or [0..255] for integers).\n"
     ]
    },
    {
     "name": "stdout",
     "output_type": "stream",
     "text": [
      "[2/100][2000/3234]\tLoss_D: 1.9797\tLoss_G: 7.2072\tD(x): 0.9903\tD(G(z)): 0.8092 / 0.0019\n",
      "[2/100][2050/3234]\tLoss_D: 0.6456\tLoss_G: 3.9585\tD(x): 0.8488\tD(G(z)): 0.3263 / 0.0277\n",
      "[2/100][2100/3234]\tLoss_D: 0.2591\tLoss_G: 2.9894\tD(x): 0.8544\tD(G(z)): 0.0848 / 0.0698\n",
      "[2/100][2150/3234]\tLoss_D: 0.3585\tLoss_G: 2.5496\tD(x): 0.8560\tD(G(z)): 0.1640 / 0.0991\n",
      "[2/100][2200/3234]\tLoss_D: 0.2096\tLoss_G: 2.2383\tD(x): 0.8798\tD(G(z)): 0.0683 / 0.1387\n",
      "[2/100][2250/3234]\tLoss_D: 0.4513\tLoss_G: 2.9607\tD(x): 0.8426\tD(G(z)): 0.2164 / 0.0700\n",
      "[2/100][2300/3234]\tLoss_D: 0.2347\tLoss_G: 3.3164\tD(x): 0.8509\tD(G(z)): 0.0615 / 0.0505\n",
      "[2/100][2350/3234]\tLoss_D: 1.9992\tLoss_G: 0.1745\tD(x): 0.2068\tD(G(z)): 0.0188 / 0.8594\n",
      "[2/100][2400/3234]\tLoss_D: 0.3159\tLoss_G: 2.8596\tD(x): 0.8641\tD(G(z)): 0.1386 / 0.0814\n",
      "[2/100][2450/3234]\tLoss_D: 0.4659\tLoss_G: 2.8600\tD(x): 0.8024\tD(G(z)): 0.1798 / 0.0784\n"
     ]
    },
    {
     "name": "stderr",
     "output_type": "stream",
     "text": [
      "Clipping input data to the valid range for imshow with RGB data ([0..1] for floats or [0..255] for integers).\n"
     ]
    },
    {
     "name": "stdout",
     "output_type": "stream",
     "text": [
      "[2/100][2500/3234]\tLoss_D: 1.0728\tLoss_G: 6.4670\tD(x): 0.9711\tD(G(z)): 0.5941 / 0.0027\n",
      "[2/100][2550/3234]\tLoss_D: 0.3872\tLoss_G: 2.2393\tD(x): 0.7819\tD(G(z)): 0.0988 / 0.1461\n",
      "[2/100][2600/3234]\tLoss_D: 0.3112\tLoss_G: 2.8114\tD(x): 0.9000\tD(G(z)): 0.1699 / 0.0834\n",
      "[2/100][2650/3234]\tLoss_D: 0.5805\tLoss_G: 4.2755\tD(x): 0.9455\tD(G(z)): 0.3676 / 0.0191\n",
      "[2/100][2700/3234]\tLoss_D: 0.5031\tLoss_G: 3.6731\tD(x): 0.9149\tD(G(z)): 0.3141 / 0.0339\n",
      "[2/100][2750/3234]\tLoss_D: 0.3500\tLoss_G: 2.4472\tD(x): 0.8403\tD(G(z)): 0.1374 / 0.1173\n",
      "[2/100][2800/3234]\tLoss_D: 1.5589\tLoss_G: 6.0069\tD(x): 0.9759\tD(G(z)): 0.6690 / 0.0054\n",
      "[2/100][2850/3234]\tLoss_D: 0.3376\tLoss_G: 2.8801\tD(x): 0.8356\tD(G(z)): 0.1285 / 0.0740\n",
      "[2/100][2900/3234]\tLoss_D: 0.3239\tLoss_G: 3.2557\tD(x): 0.7705\tD(G(z)): 0.0331 / 0.0593\n",
      "[2/100][2950/3234]\tLoss_D: 0.3323\tLoss_G: 3.6666\tD(x): 0.9012\tD(G(z)): 0.1851 / 0.0328\n"
     ]
    },
    {
     "name": "stderr",
     "output_type": "stream",
     "text": [
      "Clipping input data to the valid range for imshow with RGB data ([0..1] for floats or [0..255] for integers).\n"
     ]
    },
    {
     "name": "stdout",
     "output_type": "stream",
     "text": [
      "[2/100][3000/3234]\tLoss_D: 0.6070\tLoss_G: 4.2076\tD(x): 0.9428\tD(G(z)): 0.3783 / 0.0207\n",
      "[2/100][3050/3234]\tLoss_D: 0.4156\tLoss_G: 2.3426\tD(x): 0.8281\tD(G(z)): 0.1709 / 0.1294\n",
      "[2/100][3100/3234]\tLoss_D: 0.3085\tLoss_G: 2.8195\tD(x): 0.8483\tD(G(z)): 0.1183 / 0.0785\n",
      "[2/100][3150/3234]\tLoss_D: 0.8858\tLoss_G: 2.3086\tD(x): 0.5051\tD(G(z)): 0.0137 / 0.1468\n",
      "[2/100][3200/3234]\tLoss_D: 0.3795\tLoss_G: 3.4404\tD(x): 0.9147\tD(G(z)): 0.2198 / 0.0419\n"
     ]
    },
    {
     "name": "stderr",
     "output_type": "stream",
     "text": [
      "Clipping input data to the valid range for imshow with RGB data ([0..1] for floats or [0..255] for integers).\n"
     ]
    },
    {
     "name": "stdout",
     "output_type": "stream",
     "text": [
      "[3/100][0/3234]\tLoss_D: 0.4247\tLoss_G: 2.8725\tD(x): 0.8721\tD(G(z)): 0.2312 / 0.0715\n",
      "[3/100][50/3234]\tLoss_D: 0.4301\tLoss_G: 2.1310\tD(x): 0.7026\tD(G(z)): 0.0376 / 0.1456\n",
      "[3/100][100/3234]\tLoss_D: 0.5519\tLoss_G: 1.4898\tD(x): 0.6302\tD(G(z)): 0.0308 / 0.2711\n",
      "[3/100][150/3234]\tLoss_D: 0.5360\tLoss_G: 2.1437\tD(x): 0.6952\tD(G(z)): 0.1095 / 0.1715\n",
      "[3/100][200/3234]\tLoss_D: 0.2721\tLoss_G: 3.1219\tD(x): 0.8621\tD(G(z)): 0.1059 / 0.0582\n",
      "[3/100][250/3234]\tLoss_D: 0.4452\tLoss_G: 3.6645\tD(x): 0.9274\tD(G(z)): 0.2780 / 0.0350\n",
      "[3/100][300/3234]\tLoss_D: 0.4239\tLoss_G: 5.0317\tD(x): 0.9386\tD(G(z)): 0.2719 / 0.0099\n",
      "[3/100][350/3234]\tLoss_D: 0.4373\tLoss_G: 4.1906\tD(x): 0.9431\tD(G(z)): 0.2898 / 0.0204\n",
      "[3/100][400/3234]\tLoss_D: 0.5427\tLoss_G: 3.1207\tD(x): 0.9378\tD(G(z)): 0.3423 / 0.0602\n",
      "[3/100][450/3234]\tLoss_D: 0.2726\tLoss_G: 3.5993\tD(x): 0.9447\tD(G(z)): 0.1815 / 0.0365\n"
     ]
    },
    {
     "name": "stderr",
     "output_type": "stream",
     "text": [
      "Clipping input data to the valid range for imshow with RGB data ([0..1] for floats or [0..255] for integers).\n"
     ]
    },
    {
     "name": "stdout",
     "output_type": "stream",
     "text": [
      "[3/100][500/3234]\tLoss_D: 0.6710\tLoss_G: 2.2655\tD(x): 0.6932\tD(G(z)): 0.2070 / 0.1406\n",
      "[3/100][550/3234]\tLoss_D: 0.2140\tLoss_G: 3.6863\tD(x): 0.8834\tD(G(z)): 0.0767 / 0.0363\n",
      "[3/100][600/3234]\tLoss_D: 0.2507\tLoss_G: 3.7427\tD(x): 0.9192\tD(G(z)): 0.1416 / 0.0342\n",
      "[3/100][650/3234]\tLoss_D: 2.4976\tLoss_G: 5.9841\tD(x): 0.9881\tD(G(z)): 0.8661 / 0.0058\n",
      "[3/100][700/3234]\tLoss_D: 0.4638\tLoss_G: 3.4281\tD(x): 0.9188\tD(G(z)): 0.2865 / 0.0438\n",
      "[3/100][750/3234]\tLoss_D: 0.3131\tLoss_G: 3.6665\tD(x): 0.8935\tD(G(z)): 0.1603 / 0.0329\n",
      "[3/100][800/3234]\tLoss_D: 0.6537\tLoss_G: 3.3286\tD(x): 0.8394\tD(G(z)): 0.3332 / 0.0458\n",
      "[3/100][850/3234]\tLoss_D: 0.7973\tLoss_G: 0.9309\tD(x): 0.5371\tD(G(z)): 0.0380 / 0.4604\n",
      "[3/100][900/3234]\tLoss_D: 0.5140\tLoss_G: 3.8390\tD(x): 0.9207\tD(G(z)): 0.3037 / 0.0304\n",
      "[3/100][950/3234]\tLoss_D: 0.2766\tLoss_G: 3.4731\tD(x): 0.9378\tD(G(z)): 0.1719 / 0.0404\n"
     ]
    },
    {
     "name": "stderr",
     "output_type": "stream",
     "text": [
      "Clipping input data to the valid range for imshow with RGB data ([0..1] for floats or [0..255] for integers).\n"
     ]
    },
    {
     "name": "stdout",
     "output_type": "stream",
     "text": [
      "[3/100][1000/3234]\tLoss_D: 0.3760\tLoss_G: 2.8734\tD(x): 0.8775\tD(G(z)): 0.1903 / 0.0771\n",
      "[3/100][1050/3234]\tLoss_D: 0.8921\tLoss_G: 2.7971\tD(x): 0.5104\tD(G(z)): 0.0366 / 0.1008\n",
      "[3/100][1100/3234]\tLoss_D: 0.3859\tLoss_G: 3.3976\tD(x): 0.9194\tD(G(z)): 0.2378 / 0.0479\n",
      "[3/100][1150/3234]\tLoss_D: 0.3507\tLoss_G: 2.4614\tD(x): 0.7785\tD(G(z)): 0.0704 / 0.1208\n",
      "[3/100][1200/3234]\tLoss_D: 0.4013\tLoss_G: 2.1872\tD(x): 0.8250\tD(G(z)): 0.1677 / 0.1389\n",
      "[3/100][1250/3234]\tLoss_D: 0.3616\tLoss_G: 3.3957\tD(x): 0.9122\tD(G(z)): 0.2146 / 0.0464\n",
      "[3/100][1300/3234]\tLoss_D: 0.2448\tLoss_G: 2.5651\tD(x): 0.8625\tD(G(z)): 0.0821 / 0.1021\n",
      "[3/100][1350/3234]\tLoss_D: 0.3242\tLoss_G: 4.5633\tD(x): 0.9636\tD(G(z)): 0.2276 / 0.0150\n",
      "[3/100][1400/3234]\tLoss_D: 1.5552\tLoss_G: 5.1598\tD(x): 0.9769\tD(G(z)): 0.7035 / 0.0123\n",
      "[3/100][1450/3234]\tLoss_D: 0.4316\tLoss_G: 2.7049\tD(x): 0.8074\tD(G(z)): 0.1680 / 0.0812\n"
     ]
    },
    {
     "name": "stderr",
     "output_type": "stream",
     "text": [
      "Clipping input data to the valid range for imshow with RGB data ([0..1] for floats or [0..255] for integers).\n"
     ]
    },
    {
     "name": "stdout",
     "output_type": "stream",
     "text": [
      "[3/100][1500/3234]\tLoss_D: 0.3566\tLoss_G: 2.7673\tD(x): 0.7917\tD(G(z)): 0.0928 / 0.0822\n",
      "[3/100][1550/3234]\tLoss_D: 0.5117\tLoss_G: 2.1538\tD(x): 0.8557\tD(G(z)): 0.2464 / 0.1650\n",
      "[3/100][1600/3234]\tLoss_D: 0.3451\tLoss_G: 2.6085\tD(x): 0.8346\tD(G(z)): 0.1314 / 0.0993\n",
      "[3/100][1650/3234]\tLoss_D: 0.3594\tLoss_G: 1.3930\tD(x): 0.7717\tD(G(z)): 0.0774 / 0.2920\n",
      "[3/100][1700/3234]\tLoss_D: 0.5541\tLoss_G: 4.2870\tD(x): 0.9477\tD(G(z)): 0.3597 / 0.0183\n",
      "[3/100][1750/3234]\tLoss_D: 0.4282\tLoss_G: 3.4067\tD(x): 0.9057\tD(G(z)): 0.2515 / 0.0444\n",
      "[3/100][1800/3234]\tLoss_D: 0.2515\tLoss_G: 2.6459\tD(x): 0.8551\tD(G(z)): 0.0783 / 0.0939\n",
      "[3/100][1850/3234]\tLoss_D: 1.0260\tLoss_G: 1.5579\tD(x): 0.4323\tD(G(z)): 0.0237 / 0.2599\n",
      "[3/100][1900/3234]\tLoss_D: 0.3207\tLoss_G: 3.2489\tD(x): 0.9106\tD(G(z)): 0.1845 / 0.0559\n",
      "[3/100][1950/3234]\tLoss_D: 0.3918\tLoss_G: 2.3951\tD(x): 0.7306\tD(G(z)): 0.0475 / 0.1192\n"
     ]
    },
    {
     "name": "stderr",
     "output_type": "stream",
     "text": [
      "Clipping input data to the valid range for imshow with RGB data ([0..1] for floats or [0..255] for integers).\n"
     ]
    },
    {
     "name": "stdout",
     "output_type": "stream",
     "text": [
      "[3/100][2000/3234]\tLoss_D: 0.7805\tLoss_G: 1.6525\tD(x): 0.5983\tD(G(z)): 0.1118 / 0.2466\n",
      "[3/100][2050/3234]\tLoss_D: 0.3826\tLoss_G: 3.8456\tD(x): 0.9433\tD(G(z)): 0.2450 / 0.0313\n",
      "[3/100][2100/3234]\tLoss_D: 0.3795\tLoss_G: 2.2247\tD(x): 0.7576\tD(G(z)): 0.0714 / 0.1584\n",
      "[3/100][2150/3234]\tLoss_D: 0.2580\tLoss_G: 3.2711\tD(x): 0.8222\tD(G(z)): 0.0448 / 0.0547\n",
      "[3/100][2200/3234]\tLoss_D: 0.3394\tLoss_G: 2.4701\tD(x): 0.8092\tD(G(z)): 0.1016 / 0.1110\n",
      "[3/100][2250/3234]\tLoss_D: 0.5564\tLoss_G: 2.5092\tD(x): 0.8262\tD(G(z)): 0.2577 / 0.1071\n",
      "[3/100][2300/3234]\tLoss_D: 0.4965\tLoss_G: 3.6286\tD(x): 0.9077\tD(G(z)): 0.2930 / 0.0383\n",
      "[3/100][2350/3234]\tLoss_D: 0.2391\tLoss_G: 3.7852\tD(x): 0.9272\tD(G(z)): 0.1356 / 0.0315\n",
      "[3/100][2400/3234]\tLoss_D: 0.4014\tLoss_G: 2.5587\tD(x): 0.8074\tD(G(z)): 0.1523 / 0.1002\n",
      "[3/100][2450/3234]\tLoss_D: 0.4197\tLoss_G: 2.0424\tD(x): 0.7416\tD(G(z)): 0.0819 / 0.1714\n"
     ]
    },
    {
     "name": "stderr",
     "output_type": "stream",
     "text": [
      "Clipping input data to the valid range for imshow with RGB data ([0..1] for floats or [0..255] for integers).\n"
     ]
    },
    {
     "name": "stdout",
     "output_type": "stream",
     "text": [
      "[3/100][2500/3234]\tLoss_D: 0.5869\tLoss_G: 1.4889\tD(x): 0.6384\tD(G(z)): 0.0688 / 0.2876\n",
      "[3/100][2550/3234]\tLoss_D: 0.4817\tLoss_G: 3.7071\tD(x): 0.8589\tD(G(z)): 0.2479 / 0.0357\n",
      "[3/100][2600/3234]\tLoss_D: 0.6849\tLoss_G: 0.7600\tD(x): 0.5606\tD(G(z)): 0.0423 / 0.5163\n",
      "[3/100][2650/3234]\tLoss_D: 0.4135\tLoss_G: 3.4637\tD(x): 0.8672\tD(G(z)): 0.2149 / 0.0423\n",
      "[3/100][2700/3234]\tLoss_D: 0.5519\tLoss_G: 2.2802\tD(x): 0.6211\tD(G(z)): 0.0157 / 0.1447\n",
      "[3/100][2750/3234]\tLoss_D: 0.4703\tLoss_G: 3.2073\tD(x): 0.9179\tD(G(z)): 0.2821 / 0.0575\n",
      "[3/100][2800/3234]\tLoss_D: 0.7133\tLoss_G: 2.6412\tD(x): 0.5478\tD(G(z)): 0.0130 / 0.1067\n",
      "[3/100][2850/3234]\tLoss_D: 0.9651\tLoss_G: 6.1801\tD(x): 0.9887\tD(G(z)): 0.5571 / 0.0034\n"
     ]
    }
   ],
   "source": [
    "figure(figsize=(8, 8), dpi=100)\n",
    "\n",
    "dataset = dset.CocoCaptions(\n",
    "    root='coco/train2014',\n",
    "    annFile='coco/annotations/captions_train2014.json',\n",
    "    transform=transforms.Compose([\n",
    "                           transforms.Resize(image_size),\n",
    "                           transforms.CenterCrop(image_size),\n",
    "                           transforms.ToTensor(),\n",
    "                           transforms.Normalize((0.5, 0.5, 0.5), (0.5, 0.5, 0.5)),\n",
    "                       ])\n",
    ")\n",
    "\n",
    "pickle_file = open('sbert-captions.pkl', 'rb')     \n",
    "db = pickle.load(pickle_file)\n",
    "\n",
    "dataset = ReverseDataset(dataset, db)\n",
    "\n",
    "print('Number of samples: ', len(dataset))\n",
    "img, target = dataset[3]\n",
    "\n",
    "# Create the dataloader\n",
    "dataloader = torch.utils.data.DataLoader(\n",
    "    dataset,\n",
    "    batch_size=batch_size,\n",
    "    shuffle=True,\n",
    "    num_workers=workers\n",
    ")\n",
    "\n",
    "# Decide which device we want to run on\n",
    "device = torch.device(\"cuda:0\" if (torch.cuda.is_available() and ngpu > 0) else \"cpu\")\n",
    "\n",
    "\n",
    "# Create the generator\n",
    "netG = Generator(ngpu).to(device)\n",
    "\n",
    "# Handle multi-gpu if desired\n",
    "if (device.type == 'cuda') and (ngpu > 1):\n",
    "    netG = nn.DataParallel(netG, list(range(ngpu)))\n",
    "\n",
    "# Apply the weights_init function to randomly initialize all weights\n",
    "#  to mean=0, stdev=0.02.\n",
    "netG.apply(weights_init)\n",
    "\n",
    "# Print the model\n",
    "print(netG)\n",
    "\n",
    "# Create the Discriminator\n",
    "netD = Discriminator(ngpu).to(device)\n",
    "\n",
    "# Handle multi-gpu if desired\n",
    "if (device.type == 'cuda') and (ngpu > 1):\n",
    "    netD = nn.DataParallel(netD, list(range(ngpu)))\n",
    "\n",
    "# Apply the weights_init function to randomly initialize all weights\n",
    "#  to mean=0, stdev=0.2.\n",
    "netD.apply(weights_init)\n",
    "\n",
    "# Print the model\n",
    "print(netD)\n",
    "\n",
    "# Initialize BCELoss function\n",
    "criterion = nn.BCELoss()\n",
    "cos = nn.CosineSimilarity(dim=1, eps=1e-6)\n",
    "\n",
    "\n",
    "# Create batch of latent vectors that we will use to visualize\n",
    "#  the progression of the generator\n",
    "fixed_noise = torch.randn(64, nz, 1, 1, device=device)\n",
    "\n",
    "target_input = torch.unsqueeze(torch.unsqueeze(iter(dataloader).next()[1][:64], -1), -1)\n",
    "target_input = target_input.type(torch.float).to(device)\n",
    "\n",
    "fixed_embedding = target_input\n",
    "\n",
    "# Setup Adam optimizers for both G and D\n",
    "optimizerD = optim.Adam(netD.parameters(), lr=lr, betas=(beta1, 0.999))\n",
    "optimizerG = optim.Adam(netG.parameters(), lr=lr, betas=(beta1, 0.999))\n",
    "\n",
    "\n",
    "real_label = 1.\n",
    "fake_label = 0.\n",
    "\n",
    "\n",
    "# Training Loop\n",
    "\n",
    "# Lists to keep track of progress\n",
    "img_list = []\n",
    "G_losses = []\n",
    "D_losses = []\n",
    "iters = 0\n",
    "\n",
    "print(\"Starting Training Loop...\")\n",
    "# For each epoch\n",
    "for epoch in range(num_epochs):\n",
    "    # For each batch in the dataloader\n",
    "    for i, data in enumerate(dataloader, 0):\n",
    "\n",
    "        ############################\n",
    "        # (1) Update D network: maximize log(D(x)) + log(1 - D(G(z)))\n",
    "        ###########################\n",
    "        ## Train with all-real batch\n",
    "        netD.zero_grad()\n",
    "        # Format batch\n",
    "        real_cpu = data[0].to(device)\n",
    "        \n",
    "        # plt.imshow(np.moveaxis(vutils.make_grid(real_cpu[:64], padding=2, normalize=True).detach().cpu().numpy(), 0, -1), interpolation='nearest')\n",
    "        # plt.savefig('{}_{}_real.png'.format(i, epoch))\n",
    "        \n",
    "        \n",
    "        target = data[1].to(device)\n",
    "        b_size = real_cpu.size(0)\n",
    "        \n",
    "        # Forward pass real batch through D\n",
    "        output = netD(real_cpu).view(-1)\n",
    "        \n",
    "        label = torch.full((b_size,), real_label, dtype=torch.float, device=device)\n",
    "        \n",
    "        # Calculate loss on all-real batch\n",
    "        errD_real = criterion(output, label)\n",
    "        \n",
    "        \n",
    "        # Calculate gradients for D in backward pass\n",
    "        errD_real.backward()\n",
    "        D_x = output.mean().item()\n",
    "\n",
    "        # Train with all-fake batch\n",
    "        # Generate batch of latent vectors\n",
    "        \n",
    "        noise_vector = torch.randn(b_size, nz, 1, 1, device=device, dtype=torch.float)\n",
    "        target_input = torch.unsqueeze(torch.unsqueeze(target, -1), -1)\n",
    "        target_input = target_input.type(torch.float)\n",
    "        \n",
    "        noise = torch.cat((torch.randn(b_size, nz, 1, 1, device=device), target_input), 1)\n",
    "        # Generate fake image batch with G\n",
    "        fake = netG(noise)\n",
    "        # Classify all fake batch with D\n",
    "        output = netD(fake.detach()).view(-1)\n",
    "        \n",
    "        label.fill_(fake_label)\n",
    "        \n",
    "        # Calculate D's loss on the all-fake batch\n",
    "        errD_fake = criterion(output, label)\n",
    "        \n",
    "        # Calculate the gradients for this batch, accumulated (summed) with previous gradients\n",
    "        errD_fake.backward()\n",
    "        D_G_z1 = output.mean().item()\n",
    "        \n",
    "        # Compute error of D as sum over the fake and the real batches\n",
    "        errD = errD_real + errD_fake\n",
    "        # Update D\n",
    "        optimizerD.step()\n",
    "\n",
    "        ############################\n",
    "        # (2) Update G network: maximize log(D(G(z)))\n",
    "        ###########################\n",
    "        netG.zero_grad()\n",
    "        # fake labels are real for generator cost\n",
    "        # Since we just updated D, perform another forward pass of all-fake batch through D\n",
    "        output = netD(fake).view(-1)\n",
    "        \n",
    "        label.fill_(real_label)\n",
    "        \n",
    "        # Calculate G's loss based on this output\n",
    "        errG = criterion(output, label)\n",
    "        # Calculate gradients for G\n",
    "        errG.backward()\n",
    "        D_G_z2 = output.mean().item()\n",
    "        # Update G\n",
    "        optimizerG.step()\n",
    "\n",
    "        # Output training stats\n",
    "        if i % 50 == 0:\n",
    "            print('[%d/%d][%d/%d]\\tLoss_D: %.4f\\tLoss_G: %.4f\\tD(x): %.4f\\tD(G(z)): %.4f / %.4f'\n",
    "                  % (epoch, num_epochs, i, len(dataloader),\n",
    "                     errD.item(), errG.item(), D_x, D_G_z1, D_G_z2))\n",
    "\n",
    "        # Save Losses for plotting later\n",
    "        G_losses.append(errG.item())\n",
    "        D_losses.append(errD.item())\n",
    "\n",
    "        # Check how the generator is doing by saving G's output on fixed_noise\n",
    "        if (i % 500 == 0) or ((epoch == num_epochs-1) and (i == len(dataloader)-1)):\n",
    "            \n",
    "            plt.imshow(np.moveaxis(real_cpu[0].detach().cpu().numpy(), 0, -1), interpolation='nearest')\n",
    "            plt.savefig('images/real_{}_{}.png'.format(i, epoch))\n",
    "            \n",
    "            with torch.no_grad():\n",
    "                fake = netG(torch.cat((fixed_noise, fixed_embedding), 1)).detach().cpu()\n",
    "            img_list.append(vutils.make_grid(fake, padding=2, normalize=True))\n",
    "            plt.imshow(np.moveaxis(vutils.make_grid(fake, padding=2, normalize=True).detach().cpu().numpy(), 0, -1), interpolation='nearest')\n",
    "            plt.savefig('images/{}_{}.png'.format(i, epoch))\n",
    "            \n",
    "        torch.save(netG, \"model_files/netG_{}.model\".format(epoch))\n",
    "        torch.save(netD, \"model_files/netD_{}.model\".format(epoch))\n",
    "\n",
    "        iters += 1"
   ]
  },
  {
   "cell_type": "code",
   "execution_count": null,
   "metadata": {},
   "outputs": [],
   "source": []
  },
  {
   "cell_type": "code",
   "execution_count": null,
   "metadata": {},
   "outputs": [],
   "source": []
  }
 ],
 "metadata": {
  "kernelspec": {
   "display_name": "Python 3",
   "language": "python",
   "name": "python3"
  },
  "language_info": {
   "codemirror_mode": {
    "name": "ipython",
    "version": 3
   },
   "file_extension": ".py",
   "mimetype": "text/x-python",
   "name": "python",
   "nbconvert_exporter": "python",
   "pygments_lexer": "ipython3",
   "version": "3.7.3"
  }
 },
 "nbformat": 4,
 "nbformat_minor": 4
}